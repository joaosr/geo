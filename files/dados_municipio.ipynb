{
 "cells": [
  {
   "cell_type": "code",
   "execution_count": 2,
   "metadata": {
    "collapsed": true
   },
   "outputs": [],
   "source": [
    "import pandas as pd"
   ]
  },
  {
   "cell_type": "code",
   "execution_count": 3,
   "metadata": {
    "collapsed": false
   },
   "outputs": [],
   "source": [
    "a = pd.read_csv('pmv.csv')"
   ]
  },
  {
   "cell_type": "code",
   "execution_count": 4,
   "metadata": {
    "collapsed": false
   },
   "outputs": [],
   "source": [
    "df = pd.DataFrame(a)"
   ]
  },
  {
   "cell_type": "code",
   "execution_count": 10,
   "metadata": {
    "collapsed": false
   },
   "outputs": [],
   "source": [
    "municipio = df['municipio'] == 1500107\n",
    "categoria = df['subcategoria'] == 'PIB nominal'"
   ]
  },
  {
   "cell_type": "code",
   "execution_count": 14,
   "metadata": {
    "collapsed": false
   },
   "outputs": [],
   "source": [
    "municipio_categoria = df[municipio & categoria]"
   ]
  },
  {
   "cell_type": "code",
   "execution_count": 18,
   "metadata": {
    "collapsed": false
   },
   "outputs": [],
   "source": [
    "categorias = df['subcategoria'].unique()"
   ]
  },
  {
   "cell_type": "code",
   "execution_count": 20,
   "metadata": {
    "collapsed": false
   },
   "outputs": [
    {
     "name": "stdout",
     "output_type": "stream",
     "text": [
      "[1500107 1500131 1500206 1500305 1500404 1500503 1500602 1500701 1500800\n",
      " 1500859 1500909 1500958 1501006 1500347 1501105 1501204 1501253 1501303\n",
      " 1501402 1501451 1501501 1501576 1501600 1501709 1501725 1501758 1501782\n",
      " 1501808 1501907 1502004 1501956 1502103 1502152 1502202 1502301 1502400\n",
      " 1502509 1502608 1502707 1502756 1502764 1502772 1502806 1502855 1502905\n",
      " 1502939 1502954 1503002 1503044 1503077 1503093 1503101 1503200 1503309\n",
      " 1503408 1503457 1503507 1503606 1503705 1503754 1503804 1503903 1504000\n",
      " 1504059 1504109 1504208 1504307 1504406 1504422 1504455 1504505 1504604\n",
      " 1504703 1504802 1504901 1504950 1504976 1505007 1505031 1505064 1505106\n",
      " 1505205 1505304 1505403 1505437 1505486 1505494 1505502 1505536 1505551\n",
      " 1505601 1505635 1505650 1505700 1505809 1505908 1506005 1506104 1506112\n",
      " 1506138 1506161 1506187 1506195 1506203 1506302 1506351 1506401 1506500\n",
      " 1506559 1506583 1506609 1506708 1506807 1506906 1507003 1507102 1507151\n",
      " 1507409 1507300 1507458 1507466 1507474 1507508 1507607 1507706 1507201\n",
      " 1507755 1507805 1507904 1507953 1507961 1507979 1508001 1508035 1508050\n",
      " 1508084 1508100 1508126 1508159 1508209 1508308 1508357 1508407]\n"
     ]
    }
   ],
   "source": [
    "municipios = df['municipio'].unique()\n",
    "print(municipios)"
   ]
  }
 ],
 "metadata": {
  "kernelspec": {
   "display_name": "Python 3",
   "language": "python",
   "name": "python3"
  },
  "language_info": {
   "codemirror_mode": {
    "name": "ipython",
    "version": 3
   },
   "file_extension": ".py",
   "mimetype": "text/x-python",
   "name": "python",
   "nbconvert_exporter": "python",
   "pygments_lexer": "ipython3",
   "version": "3.5.0"
  }
 },
 "nbformat": 4,
 "nbformat_minor": 1
}
