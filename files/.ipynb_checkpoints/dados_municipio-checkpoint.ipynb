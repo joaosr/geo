{
 "cells": [
  {
   "cell_type": "code",
   "execution_count": 4,
   "metadata": {
    "collapsed": true
   },
   "outputs": [],
   "source": [
    "import pandas as pd"
   ]
  },
  {
   "cell_type": "code",
   "execution_count": 25,
   "metadata": {
    "collapsed": false
   },
   "outputs": [],
   "source": [
    "a = pd.read_csv('pmv.csv')"
   ]
  },
  {
   "cell_type": "code",
   "execution_count": 28,
   "metadata": {
    "collapsed": false
   },
   "outputs": [],
   "source": [
    "df = pd.DataFrame(a)"
   ]
  },
  {
   "cell_type": "code",
   "execution_count": 36,
   "metadata": {
    "collapsed": false
   },
   "outputs": [],
   "source": [
    "mun = df[df['municipio'] == 1500107]"
   ]
  },
  {
   "cell_type": "code",
   "execution_count": 38,
   "metadata": {
    "collapsed": false
   },
   "outputs": [
    {
     "name": "stdout",
     "output_type": "stream",
     "text": [
      "        municipio               indice                  subcategoria  \\\n",
      "0         1500107                  176                 Acesso à água   \n",
      "1481      1500107                27790                   PIB nominal   \n",
      "1601      1500107                57867                   PIB nominal   \n",
      "1852      1500107               534335                   PIB nominal   \n",
      "3760      1500107                  176                 Acesso à água   \n",
      "3865      1500107                    3                 Acesso à água   \n",
      "4180      1500107                 5653                 Acesso à água   \n",
      "9381      1500107  0.63600000000000001                          IFDM   \n",
      "9500      1500107  0.33300000000000002                          IFDM   \n",
      "9621      1500107  0.55600000000000005                          IFDM   \n",
      "9742      1500107  0.69799999999999995                          IFDM   \n",
      "10802     1500107   20.050000000000001                            \\N   \n",
      "10946     1500107   20.050000000000001                            \\N   \n",
      "12297     1500107             22005365                 Bolsa família   \n",
      "13461     1500107                17842                 Bolsa família   \n",
      "17854     1500107   20.050000000000001                            \\N   \n",
      "17875     1500107   20.050000000000001                            \\N   \n",
      "17890     1500107   20.050000000000001                            \\N   \n",
      "17905     1500107   20.050000000000001                            \\N   \n",
      "17926     1500107   20.050000000000001                            \\N   \n",
      "17941     1500107   20.050000000000001                            \\N   \n",
      "18902     1500107                   \\N          Conflitos fundiários   \n",
      "20189     1500107                    7          Conflitos fundiários   \n",
      "21476     1500107                  374          Conflitos fundiários   \n",
      "22763     1500107                  130          Conflitos fundiários   \n",
      "24479     1500107   362676.26000000001                 Crédito rural   \n",
      "26338     1500107   134678.79999999999                 Crédito rural   \n",
      "28197     1500107            497355.06                 Crédito rural   \n",
      "29913     1500107                    0                        Fundeb   \n",
      "31486     1500107   39.170000000000002                        Fundeb   \n",
      "...           ...                  ...                           ...   \n",
      "152416    1500107                    0  Produção Agrícola (evolução)   \n",
      "153989    1500107                    0  Produção Agrícola (evolução)   \n",
      "155562    1500107                    0  Produção Agrícola (evolução)   \n",
      "157135    1500107                    0  Produção Agrícola (evolução)   \n",
      "158708    1500107                    0  Produção Agrícola (evolução)   \n",
      "160281    1500107                    0  Produção Agrícola (evolução)   \n",
      "161854    1500107                 2263  Produção Pecuária (evolução)   \n",
      "163427    1500107               110700  Produção Pecuária (evolução)   \n",
      "165000    1500107                 6900  Produção Pecuária (evolução)   \n",
      "166573    1500107                17590  Produção Pecuária (evolução)   \n",
      "168146    1500107                 1080  Produção Pecuária (evolução)   \n",
      "203177    1500107                 1542         Admissões e demissões   \n",
      "203470    1500107                40983                   PIB nominal   \n",
      "205012    1500107                  167                 Acesso à água   \n",
      "205036    1500107                 5307                 Acesso à água   \n",
      "206272    1500107                  130          Conflitos fundiários   \n",
      "207324    1500107   20.050000000000001                            \\N   \n",
      "212074    1500107                  768  Produção Agrícola (evolução)   \n",
      "212136    1500107                 4620  Produção Agrícola (evolução)   \n",
      "212320    1500107                 1050  Produção Agrícola (evolução)   \n",
      "216813    1500107                 6900  Produção Pecuária (evolução)   \n",
      "216935    1500107               110700  Produção Pecuária (evolução)   \n",
      "217073    1500107                17590  Produção Pecuária (evolução)   \n",
      "217109    1500107   99694002.569999993             Receitas e gastos   \n",
      "217120    1500107          114630479.5             Receitas e gastos   \n",
      "217131    1500107          -14936476.9             Receitas e gastos   \n",
      "221814    1500107             22005365                 Bolsa família   \n",
      "222822    1500107   4.7999999999999998            Desempenho escolar   \n",
      "224646    1500107                 3788                            \\N   \n",
      "225959    1500107               407695                   PIB nominal   \n",
      "\n",
      "                                  categoria  publicacao  \n",
      "0                                 Comercial        2010  \n",
      "1481                                Imposto        2010  \n",
      "1601                              Indústria        2010  \n",
      "1852                                  Total        2010  \n",
      "3760                              Comercial        2010  \n",
      "3865                             Industrial        2010  \n",
      "4180                                  Total        2010  \n",
      "9381                               Educação        2010  \n",
      "9500                        Emprego & Renda        2010  \n",
      "9621                                   IFDM        2010  \n",
      "9742                                  Saúde        2010  \n",
      "10802                                    \\N        2010  \n",
      "10946                                    \\N        2010  \n",
      "12297                      Número de bolsas        2010  \n",
      "13461                      Número de bolsas        2010  \n",
      "17854                                    \\N        2010  \n",
      "17875                                    \\N        2010  \n",
      "17890                                    \\N        2010  \n",
      "17905                                    \\N        2010  \n",
      "17926                                    \\N        2010  \n",
      "17941                                    \\N        2010  \n",
      "18902                 Assassinatos no campo        2010  \n",
      "20189                       Nº de conflitos        2010  \n",
      "21476             Nº de famílias envolvidas        2010  \n",
      "22763                  Área envolvida (km²)        2010  \n",
      "24479                              Agrícola        2010  \n",
      "26338                              Pecuária        2010  \n",
      "28197                                 Total        2010  \n",
      "29913                                FUNDEF        2010  \n",
      "31486                                FUNDEB        2010  \n",
      "...                                     ...         ...  \n",
      "152416                             Amendoim        2010  \n",
      "153989                          Batata-doce        2010  \n",
      "155562                              Guaraná        2010  \n",
      "157135                              Palmito        2010  \n",
      "158708                                 Juta        2010  \n",
      "160281                                Melão        2010  \n",
      "161854                               Bovino        2010  \n",
      "163427     Galos, frangas, frangos e pintos        2010  \n",
      "165000                             Galinhas        2010  \n",
      "166573                                Suíno        2010  \n",
      "168146                             Bubalino        2010  \n",
      "203177                           Desligados        2010  \n",
      "203470                         Agropecuária        2010  \n",
      "205012                              Público        2010  \n",
      "205036                          Residencial        2010  \n",
      "206272                 Área envolvida (km²)        2010  \n",
      "207324                                   \\N        2010  \n",
      "212074                         Coco-da-baía        2010  \n",
      "212136                             Mandioca        2010  \n",
      "212320                     Pimenta do reino        2010  \n",
      "216813                             Galinhas        2010  \n",
      "216935     Galos, frangas, frangos e pintos        2010  \n",
      "217073                                Suíno        2010  \n",
      "217109                             Receitas        2010  \n",
      "217120                             Despesas        2010  \n",
      "217131                       Balança fiscal        2010  \n",
      "221814                     Valor do repasse        2010  \n",
      "222822  Taxa de evasão (Ensino Fundamental)        2010  \n",
      "224646                                   \\N        2010  \n",
      "225959                             Serviços        2010  \n",
      "\n",
      "[226 rows x 5 columns]\n"
     ]
    },
    {
     "name": "stderr",
     "output_type": "stream",
     "text": [
      "/home/joaosr/Desenvolvimento/geo/.geo/lib/python3.5/site-packages/ipykernel/__main__.py:1: UserWarning: Boolean Series key will be reindexed to match DataFrame index.\n",
      "  if __name__ == '__main__':\n"
     ]
    }
   ],
   "source": [
    "print(mun[df['publicacao'] == 2010])"
   ]
  }
 ],
 "metadata": {
  "kernelspec": {
   "display_name": "Python 3",
   "language": "python",
   "name": "python3"
  },
  "language_info": {
   "codemirror_mode": {
    "name": "ipython",
    "version": 3
   },
   "file_extension": ".py",
   "mimetype": "text/x-python",
   "name": "python",
   "nbconvert_exporter": "python",
   "pygments_lexer": "ipython3",
   "version": "3.5.0"
  }
 },
 "nbformat": 4,
 "nbformat_minor": 1
}
